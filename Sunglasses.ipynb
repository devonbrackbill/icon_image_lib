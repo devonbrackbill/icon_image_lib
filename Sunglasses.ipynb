{
 "cells": [
  {
   "attachments": {},
   "cell_type": "markdown",
   "metadata": {},
   "source": [
    "# Process Sunglasses (resize them)"
   ]
  },
  {
   "cell_type": "code",
   "execution_count": 2,
   "metadata": {},
   "outputs": [],
   "source": [
    "import matplotlib.pyplot as plt\n",
    "import string\n",
    "import os\n",
    "from PIL import Image\n",
    "import cv2\n",
    "import shutil\n",
    "import json\n",
    "import matplotlib\n",
    "from IPython.display import display"
   ]
  },
  {
   "cell_type": "code",
   "execution_count": 4,
   "metadata": {},
   "outputs": [
    {
     "name": "stdout",
     "output_type": "stream",
     "text": [
      "processing: sunglasses05.png\n"
     ]
    },
    {
     "name": "stderr",
     "output_type": "stream",
     "text": [
      "/var/folders/c5/8qdvlg4j6kg9_f9zbmjxykfw0000gn/T/ipykernel_28594/3509759864.py:9: DeprecationWarning: ANTIALIAS is deprecated and will be removed in Pillow 10 (2023-07-01). Use Resampling.LANCZOS instead.\n",
      "  img = img.resize((512, 512), Image.ANTIALIAS)\n"
     ]
    },
    {
     "name": "stdout",
     "output_type": "stream",
     "text": [
      "processing: sunglasses04.png\n",
      "processing: sunglasses06.png\n",
      "processing: sunglasses03.png\n",
      "processing: sunglasses02.png\n",
      "processing: sunglasses01.png\n"
     ]
    }
   ],
   "source": [
    "# read in all images and resize them to 512x512 and save them in a new folder\n",
    "\n",
    "os.makedirs('res/sunglasses/resized', exist_ok=True)\n",
    "\n",
    "for filename in os.listdir('res/sunglasses/raw'):\n",
    "    if filename.endswith(\".png\"):\n",
    "        print('processing: {}'.format(filename))\n",
    "        img = Image.open('res/sunglasses/raw/'+filename)\n",
    "        img = img.resize((512, 512), Image.ANTIALIAS)\n",
    "        img.save('res/sunglasses/resized/'+filename)\n",
    "    else:\n",
    "        print('skipping: {}'.format(filename))"
   ]
  },
  {
   "cell_type": "code",
   "execution_count": null,
   "metadata": {},
   "outputs": [],
   "source": []
  }
 ],
 "metadata": {
  "kernelspec": {
   "display_name": "Python 3.10.8 ('venv': venv)",
   "language": "python",
   "name": "python3"
  },
  "language_info": {
   "codemirror_mode": {
    "name": "ipython",
    "version": 3
   },
   "file_extension": ".py",
   "mimetype": "text/x-python",
   "name": "python",
   "nbconvert_exporter": "python",
   "pygments_lexer": "ipython3",
   "version": "3.10.8"
  },
  "orig_nbformat": 4,
  "vscode": {
   "interpreter": {
    "hash": "dacfab883f97b81f72b346098a89fc2cacfd2387efde41dd119b9d94d10f06d9"
   }
  }
 },
 "nbformat": 4,
 "nbformat_minor": 2
}
